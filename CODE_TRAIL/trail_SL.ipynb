{
 "cells": [
  {
   "cell_type": "code",
   "execution_count": null,
   "id": "egyptian-professional",
   "metadata": {},
   "outputs": [],
   "source": [
    "import pandas as pd\n"
   ]
  },
  {
   "cell_type": "code",
   "execution_count": null,
   "id": "musical-surrey",
   "metadata": {},
   "outputs": [],
   "source": [
    "data = pd.read_csv('banknifty.csv')\n",
    "data.head(20)"
   ]
  },
  {
   "cell_type": "code",
   "execution_count": null,
   "id": "curious-thumb",
   "metadata": {},
   "outputs": [],
   "source": [
    "close = data['close']\n",
    "entry = close[0]\n",
    "initalSL = entry + 60\n",
    "trail = 10\n",
    "forwardMove = 20\n",
    "SL = initalSL\n",
    "print('Entry: ', entry,'SL : ',initalSL )"
   ]
  },
  {
   "cell_type": "code",
   "execution_count": null,
   "id": "progressive-wages",
   "metadata": {},
   "outputs": [],
   "source": [
    "\n",
    "for i in range(0, len(close)-1):\n",
    "    \n",
    "    diff = round((entry - close[i]) , 2)\n",
    "    point = int(diff/forwardMove)  if diff > 0 else 0 \n",
    "    SLmove = point*trail\n",
    "    \n",
    "    if initalSL - SL < SLmove:\n",
    "        SL  = initalSL- SLmove #SL ORDER UPDATE HERE\n",
    "        print(f'{i } {data.loc[i][\"datetime\"]} close {close[i]} New SL  {SL}  diff {diff} ') #{point}  {SLmove}')\n",
    "    elif  SL <= close[i]:\n",
    "        print('SL hit : ', data.loc[i][\"datetime\"] ,close[i] , ' ', SL )\n",
    "        break\n",
    "    else: \n",
    "        print(f'{i } {data.loc[i][\"datetime\"]} close {close[i]} SL  {SL} diff {diff} ')"
   ]
  },
  {
   "cell_type": "code",
   "execution_count": null,
   "id": "loving-secret",
   "metadata": {
    "scrolled": true
   },
   "outputs": [],
   "source": [
    "data = data[7:].reset_index()\n",
    "close = data['close']\n",
    "entry = close[0]\n",
    "initalSL = entry - 60\n",
    "trail = 20\n",
    "forwardMove = 20\n",
    "print(f'{initalSL} {entry}')\n",
    "SL = initalSL\n",
    "for i in range(0, len(close)-1):\n",
    "    \n",
    "    diff =  round((close[i] - entry ) , 2) \n",
    "    point = int(diff/forwardMove)  if diff > 0 else 0 \n",
    "    SLmove = point*trail\n",
    "    if  SL >= close[i]:\n",
    "        print('SL hit : ', data.loc[i][\"datetime\"] ,close[i] , ' ', SL )\n",
    "        break\n",
    "    elif SL - initalSL < SLmove:\n",
    "        SL  = initalSL+ SLmove  #ORDER UPDATE HERE\n",
    "        print(f'{i } {data.loc[i][\"datetime\"]} New SL {SL} {point}  {SLmove}')\n",
    "    else:\n",
    "        print(f'{i } {data.loc[i][\"datetime\"]} close {close[i]} SL  {SL} diff {diff} ')\n",
    "   "
   ]
  }
 ],
 "metadata": {
  "kernelspec": {
   "display_name": "myenv",
   "language": "python",
   "name": "myenv"
  },
  "language_info": {
   "codemirror_mode": {
    "name": "ipython",
    "version": 3
   },
   "file_extension": ".py",
   "mimetype": "text/x-python",
   "name": "python",
   "nbconvert_exporter": "python",
   "pygments_lexer": "ipython3",
   "version": "3.7.9"
  }
 },
 "nbformat": 4,
 "nbformat_minor": 5
}
